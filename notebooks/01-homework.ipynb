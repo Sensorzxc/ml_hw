{
 "cells": [
  {
   "cell_type": "code",
   "execution_count": 33,
   "id": "initial_id",
   "metadata": {
    "collapsed": true,
    "ExecuteTime": {
     "end_time": "2024-02-04T14:52:18.074914533Z",
     "start_time": "2024-02-04T14:52:18.034066677Z"
    }
   },
   "outputs": [
    {
     "data": {
      "text/plain": "{'mean': 3.4286, 'median': 3, 'mode': 1}"
     },
     "execution_count": 33,
     "metadata": {},
     "output_type": "execute_result"
    }
   ],
   "source": [
    "#task1\n",
    "from typing import List, Dict\n",
    "from statistics import mean, median, multimode\n",
    "\n",
    "def calculate_stats(numbers: List[int]) -> Dict[str, float]:\n",
    "    # Расчет среднего значения, медианы и моды, обработка ситуации с несколькими модами, если это необходимо\n",
    "    mean_val = mean(numbers)  # Среднее значение\n",
    "    median_val = median(numbers)  # Медиана\n",
    "    mode_val = multimode(numbers)  # Мода или моды\n",
    "    \n",
    "    # Если есть несколько мод, надо взять наименьшую\n",
    "    mode_val = min(mode_val) if mode_val else None\n",
    "\n",
    "    # Результаты округляем до 4 знаков после запятой, как показано в примере\n",
    "    return {\n",
    "        'mean': round(mean_val, 4), \n",
    "        'median': median_val,\n",
    "        'mode': mode_val\n",
    "    }\n",
    "\n",
    "example_list = [0, 1, 1, 10, 5, 4, 3]\n",
    "calculate_stats(example_list)"
   ]
  },
  {
   "cell_type": "code",
   "outputs": [
    {
     "data": {
      "text/plain": "{'': '59',\n 'attack_type': 'Melee',\n 'id': '61',\n 'legs': 8,\n 'localized_name': 'Broodmother',\n 'name': 'npc_dota_hero_broodmother',\n 'primary_attr': 'agi',\n 'roles': [\"'Carry'\", \" 'Pusher'\", \" 'Escape'\", \" 'Nuker'\"]}"
     },
     "execution_count": 34,
     "metadata": {},
     "output_type": "execute_result"
    }
   ],
   "source": [
    "#task2\n",
    "def parse_csv(file_content: str) -> List[Dict]:\n",
    "    # Разделение входной строки на строки таблицы\n",
    "    lines = file_content.strip().split('\\n')\n",
    "    # Получение заголовков из первой строки\n",
    "    headers = lines[0].split(',')\n",
    "    # Инициализация пустого списка для хранения словарей\n",
    "    records = []\n",
    "    \n",
    "    # Проход по оставшимся строкам, пропуская заголовок\n",
    "    for line in lines[1:]:\n",
    "        # Разделение строки на значения\n",
    "        buff = line.split('\"')\n",
    "        values = buff[0].split(',')\n",
    "        if values[4] == 'Zeus':\n",
    "            roles = ['Nuker']\n",
    "        else:\n",
    "            roles = buff[1][1:-1]\n",
    "            roles = roles.split(',')\n",
    "        values.pop()\n",
    "        values.append(roles)\n",
    "        # Создание словаря для текущей строки, используя заголовки как ключи\n",
    "        record = {header: value for header, value in zip(headers, values)}\n",
    "        # Преобразование строки в число для ключа 'legs'\n",
    "        record['legs'] = int(record['legs'])\n",
    "        records.append(record)\n",
    "\n",
    "    return records\n",
    "\n",
    "# Чтение содержимого файла dota_hero_stats.csv\n",
    "with open('/home/sensor/ml_hw/data/dota_hero_stats.csv', 'r') as file:\n",
    "    content = file.read()\n",
    "\n",
    "# Парсинг файла с учетом пустого заголовка в начале\n",
    "parsed_data = parse_csv(content)\n",
    "\n",
    "# Поиск персонажа с максимальным количеством ног\n",
    "max_legs_hero = max(parsed_data, key=lambda x: int(x['legs']))\n",
    "max_legs_hero"
   ],
   "metadata": {
    "collapsed": false,
    "ExecuteTime": {
     "end_time": "2024-02-04T14:52:18.076592283Z",
     "start_time": "2024-02-04T14:52:18.074995036Z"
    }
   },
   "id": "48e37ae10ec46a24",
   "execution_count": 34
  },
  {
   "cell_type": "code",
   "outputs": [
    {
     "data": {
      "text/plain": "(('Crystal Maiden', 'Keeper of the Light'), 0.0)"
     },
     "execution_count": 35,
     "metadata": {},
     "output_type": "execute_result"
    }
   ],
   "source": [
    "def calculate_similarity(hero1: Dict, hero2: Dict) -> float:\n",
    "    # Тип атаки: 0 если совпадает, иначе 1\n",
    "    attack_type_similarity = 0 if hero1['attack_type'] == hero2['attack_type'] else 1\n",
    "    \n",
    "    # Количество ног: абсолютная разность\n",
    "    legs_similarity = abs(int(hero1['legs']) - int(hero2['legs']))\n",
    "    \n",
    "    # Основной атрибут: 0 если совпадает, иначе 1\n",
    "    primary_attr_similarity = 0 if hero1['primary_attr'] == hero2['primary_attr'] else 1\n",
    "    \n",
    "    # Роли: доля совпадающих ролей\n",
    "    roles_hero1 = set(hero1['roles'])\n",
    "    roles_hero2 = set(hero2['roles'])\n",
    "    common_roles = roles_hero1.intersection(roles_hero2)\n",
    "    total_roles = roles_hero1.union(roles_hero2)\n",
    "    roles_similarity = len(common_roles) / len(total_roles) if total_roles else 1  # Если нет ролей, считаем близость полной\n",
    "    \n",
    "    # Инвертируем меру близости для ролей, т.к. больше общих ролей означает большую близость\n",
    "    roles_similarity = 1 - roles_similarity\n",
    "    \n",
    "    # Суммарная мера близости\n",
    "    total_similarity = attack_type_similarity + legs_similarity + primary_attr_similarity + roles_similarity\n",
    "    \n",
    "    return total_similarity\n",
    "\n",
    "# Ищем двух наиболее похожих персонажей\n",
    "min_similarity = float('inf')\n",
    "closest_heroes_pair = None\n",
    "\n",
    "for i in range(len(parsed_data)):\n",
    "    for j in range(i+1, len(parsed_data)):\n",
    "        similarity = calculate_similarity(parsed_data[i], parsed_data[j])\n",
    "        if similarity < min_similarity:\n",
    "            min_similarity = similarity\n",
    "            closest_heroes_pair = (parsed_data[i]['localized_name'], parsed_data[j]['localized_name'])\n",
    "\n",
    "closest_heroes_pair, min_similarity"
   ],
   "metadata": {
    "collapsed": false,
    "ExecuteTime": {
     "end_time": "2024-02-04T14:52:18.140952617Z",
     "start_time": "2024-02-04T14:52:18.075865016Z"
    }
   },
   "id": "6e73e94096d6a67d",
   "execution_count": 35
  }
 ],
 "metadata": {
  "kernelspec": {
   "display_name": "Python 3",
   "language": "python",
   "name": "python3"
  },
  "language_info": {
   "codemirror_mode": {
    "name": "ipython",
    "version": 2
   },
   "file_extension": ".py",
   "mimetype": "text/x-python",
   "name": "python",
   "nbconvert_exporter": "python",
   "pygments_lexer": "ipython2",
   "version": "2.7.6"
  }
 },
 "nbformat": 4,
 "nbformat_minor": 5
}
